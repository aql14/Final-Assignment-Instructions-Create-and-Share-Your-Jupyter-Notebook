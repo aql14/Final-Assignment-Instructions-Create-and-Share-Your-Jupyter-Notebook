{
 "cells": [
  {
   "cell_type": "markdown",
   "id": "0c2e9346-98eb-4893-9ccf-34b932a071ec",
   "metadata": {},
   "source": [
    "# Data Science Tools and Ecosystem"
   ]
  },
  {
   "cell_type": "markdown",
   "id": "0f4776ac-0d0c-48ac-ab00-e631e4b64fc9",
   "metadata": {},
   "source": [
    "In this notebook, Data Science Tools and Ecosystem are summarized."
   ]
  },
  {
   "cell_type": "markdown",
   "id": "39ed9754-204d-4f17-9725-d38011a6a9da",
   "metadata": {},
   "source": [
    "**Objectives:**\n",
    "- Python\n",
    "- Jupyter Notebook\n",
    "- RStudio\n",
    "- GitHub\n",
    "- Anaconda"
   ]
  },
  {
   "cell_type": "markdown",
   "id": "a43592e1-0e97-43dd-bff9-7e188e009370",
   "metadata": {},
   "source": [
    "Some of the popular languages that Data Scientists use are:\n",
    "1. Python\n",
    "2. R\n",
    "3. SQL\n",
    "4. C++\n",
    "5. Java"
   ]
  },
  {
   "cell_type": "markdown",
   "id": "fc8c2bba-6de7-4f3b-a662-4c07fba547bc",
   "metadata": {},
   "source": [
    "Some of the commonly used libraries used by Data Scientists include:\n",
    "1. NumPy\n",
    "2. Pandas\n",
    "3. TensorFlow\n",
    "4. Keras\n",
    "5. Matplotlib"
   ]
  },
  {
   "cell_type": "markdown",
   "id": "d470b397-6287-4ae3-9ae9-54abf3e904e7",
   "metadata": {},
   "source": [
    "|Data Science Tools|\n",
    "|:--------:|\n",
    "|Apache Airflow|\n",
    "|KubeFlow|\n",
    "|Apache Kafka|"
   ]
  },
  {
   "cell_type": "markdown",
   "id": "d87be148-2207-482e-a226-0a22090ee8b4",
   "metadata": {},
   "source": [
    "### Below are a few examples of evaluating arithmetic expressions in Python"
   ]
  },
  {
   "cell_type": "code",
   "execution_count": 8,
   "id": "8152ecf9-b5d0-490a-8250-71ca41740f51",
   "metadata": {},
   "outputs": [
    {
     "data": {
      "text/plain": [
       "17"
      ]
     },
     "execution_count": 8,
     "metadata": {},
     "output_type": "execute_result"
    }
   ],
   "source": [
    "# This is a simple arithmetic expression to mutiply then add integers\n",
    "(3*4)+5"
   ]
  },
  {
   "cell_type": "markdown",
   "id": "53519113-efed-49a8-9bb5-fe31db0668a2",
   "metadata": {},
   "source": [
    "## Minutes-Hours Converter"
   ]
  },
  {
   "cell_type": "code",
   "execution_count": 15,
   "id": "f2c26b0d-38a6-4d6c-9941-b5f0da1e6625",
   "metadata": {},
   "outputs": [
    {
     "name": "stdout",
     "output_type": "stream",
     "text": [
      "200 minutes are 3.3333333333333335 hours\n"
     ]
    }
   ],
   "source": [
    "min = 200\n",
    "# This will convert 200 minutes to hours by diving by 60\n",
    "hours = min/60\n",
    "print(f'{min} minutes are {hours} hours')"
   ]
  },
  {
   "cell_type": "markdown",
   "id": "9d6d7b92-e9d0-4b93-b013-052f52b70c42",
   "metadata": {},
   "source": [
    "## Author\n",
    "Álvaro"
   ]
  }
 ],
 "metadata": {
  "kernelspec": {
   "display_name": "Python 3 (ipykernel)",
   "language": "python",
   "name": "python3"
  },
  "language_info": {
   "codemirror_mode": {
    "name": "ipython",
    "version": 3
   },
   "file_extension": ".py",
   "mimetype": "text/x-python",
   "name": "python",
   "nbconvert_exporter": "python",
   "pygments_lexer": "ipython3",
   "version": "3.12.4"
  }
 },
 "nbformat": 4,
 "nbformat_minor": 5
}
